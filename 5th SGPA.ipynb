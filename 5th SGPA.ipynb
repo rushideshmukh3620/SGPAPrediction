{
 "cells": [
  {
   "cell_type": "markdown",
   "id": "78241b2b-16a3-420a-9b53-0e394826869a",
   "metadata": {},
   "source": [
    "## Import Necessary Libraries"
   ]
  },
  {
   "cell_type": "code",
   "execution_count": 1,
   "id": "d036cfe2-a5e1-4c79-bbd5-5d5e630f3b5a",
   "metadata": {},
   "outputs": [],
   "source": [
    "import numpy as np\n",
    "import pandas as pd\n",
    "import matplotlib.pyplot as plt\n",
    "import seaborn as sns\n",
    "import warnings\n",
    "warnings.filterwarnings('ignore')"
   ]
  },
  {
   "cell_type": "markdown",
   "id": "f3294d79-f2e4-4ed5-b795-4b859ae01f37",
   "metadata": {},
   "source": [
    "## Read CSV File "
   ]
  },
  {
   "cell_type": "code",
   "execution_count": 2,
   "id": "877b5155-41ad-4569-a286-0631009a13ed",
   "metadata": {},
   "outputs": [
    {
     "data": {
      "text/html": [
       "<div>\n",
       "<style scoped>\n",
       "    .dataframe tbody tr th:only-of-type {\n",
       "        vertical-align: middle;\n",
       "    }\n",
       "\n",
       "    .dataframe tbody tr th {\n",
       "        vertical-align: top;\n",
       "    }\n",
       "\n",
       "    .dataframe thead th {\n",
       "        text-align: right;\n",
       "    }\n",
       "</style>\n",
       "<table border=\"1\" class=\"dataframe\">\n",
       "  <thead>\n",
       "    <tr style=\"text-align: right;\">\n",
       "      <th></th>\n",
       "      <th>SGPA_1</th>\n",
       "      <th>SGPA_2</th>\n",
       "      <th>SGPA_3</th>\n",
       "      <th>SGPA_4</th>\n",
       "      <th>SGPA5</th>\n",
       "    </tr>\n",
       "  </thead>\n",
       "  <tbody>\n",
       "    <tr>\n",
       "      <th>0</th>\n",
       "      <td>8.70</td>\n",
       "      <td>6.50</td>\n",
       "      <td>7.36</td>\n",
       "      <td>8.32</td>\n",
       "      <td>7.886667</td>\n",
       "    </tr>\n",
       "    <tr>\n",
       "      <th>1</th>\n",
       "      <td>8.80</td>\n",
       "      <td>7.93</td>\n",
       "      <td>8.27</td>\n",
       "      <td>8.82</td>\n",
       "      <td>8.765000</td>\n",
       "    </tr>\n",
       "    <tr>\n",
       "      <th>2</th>\n",
       "      <td>7.32</td>\n",
       "      <td>8.18</td>\n",
       "      <td>8.36</td>\n",
       "      <td>8.64</td>\n",
       "      <td>8.861667</td>\n",
       "    </tr>\n",
       "    <tr>\n",
       "      <th>3</th>\n",
       "      <td>9.09</td>\n",
       "      <td>9.68</td>\n",
       "      <td>9.55</td>\n",
       "      <td>9.91</td>\n",
       "      <td>9.929167</td>\n",
       "    </tr>\n",
       "    <tr>\n",
       "      <th>4</th>\n",
       "      <td>9.02</td>\n",
       "      <td>8.66</td>\n",
       "      <td>8.44</td>\n",
       "      <td>8.27</td>\n",
       "      <td>8.222500</td>\n",
       "    </tr>\n",
       "    <tr>\n",
       "      <th>...</th>\n",
       "      <td>...</td>\n",
       "      <td>...</td>\n",
       "      <td>...</td>\n",
       "      <td>...</td>\n",
       "      <td>...</td>\n",
       "    </tr>\n",
       "    <tr>\n",
       "      <th>58</th>\n",
       "      <td>8.90</td>\n",
       "      <td>7.00</td>\n",
       "      <td>7.80</td>\n",
       "      <td>6.90</td>\n",
       "      <td>7.150000</td>\n",
       "    </tr>\n",
       "    <tr>\n",
       "      <th>59</th>\n",
       "      <td>8.09</td>\n",
       "      <td>7.49</td>\n",
       "      <td>8.27</td>\n",
       "      <td>8.91</td>\n",
       "      <td>8.730000</td>\n",
       "    </tr>\n",
       "    <tr>\n",
       "      <th>60</th>\n",
       "      <td>7.14</td>\n",
       "      <td>6.93</td>\n",
       "      <td>8.09</td>\n",
       "      <td>7.45</td>\n",
       "      <td>7.387500</td>\n",
       "    </tr>\n",
       "    <tr>\n",
       "      <th>61</th>\n",
       "      <td>8.43</td>\n",
       "      <td>7.16</td>\n",
       "      <td>7.73</td>\n",
       "      <td>8.45</td>\n",
       "      <td>8.137500</td>\n",
       "    </tr>\n",
       "    <tr>\n",
       "      <th>62</th>\n",
       "      <td>8.57</td>\n",
       "      <td>7.93</td>\n",
       "      <td>7.45</td>\n",
       "      <td>8.73</td>\n",
       "      <td>8.686667</td>\n",
       "    </tr>\n",
       "  </tbody>\n",
       "</table>\n",
       "<p>63 rows × 5 columns</p>\n",
       "</div>"
      ],
      "text/plain": [
       "    SGPA_1  SGPA_2  SGPA_3  SGPA_4     SGPA5\n",
       "0     8.70    6.50    7.36    8.32  7.886667\n",
       "1     8.80    7.93    8.27    8.82  8.765000\n",
       "2     7.32    8.18    8.36    8.64  8.861667\n",
       "3     9.09    9.68    9.55    9.91  9.929167\n",
       "4     9.02    8.66    8.44    8.27  8.222500\n",
       "..     ...     ...     ...     ...       ...\n",
       "58    8.90    7.00    7.80    6.90  7.150000\n",
       "59    8.09    7.49    8.27    8.91  8.730000\n",
       "60    7.14    6.93    8.09    7.45  7.387500\n",
       "61    8.43    7.16    7.73    8.45  8.137500\n",
       "62    8.57    7.93    7.45    8.73  8.686667\n",
       "\n",
       "[63 rows x 5 columns]"
      ]
     },
     "execution_count": 2,
     "metadata": {},
     "output_type": "execute_result"
    }
   ],
   "source": [
    "df = pd.read_csv('5thSGPA.csv')\n",
    "df"
   ]
  },
  {
   "cell_type": "markdown",
   "id": "21f6fb63-2f88-4386-9086-320838631257",
   "metadata": {},
   "source": [
    "## Check the Missing Values"
   ]
  },
  {
   "cell_type": "code",
   "execution_count": 3,
   "id": "42a3cb8d-8caf-4715-9db9-c40a5345221b",
   "metadata": {},
   "outputs": [
    {
     "data": {
      "text/plain": [
       "SGPA_1    0\n",
       "SGPA_2    0\n",
       "SGPA_3    0\n",
       "SGPA_4    0\n",
       "SGPA5     0\n",
       "dtype: int64"
      ]
     },
     "execution_count": 3,
     "metadata": {},
     "output_type": "execute_result"
    }
   ],
   "source": [
    "df.isnull().sum()"
   ]
  },
  {
   "cell_type": "markdown",
   "id": "e206b969-5183-4fe0-83f2-a55b91c29954",
   "metadata": {},
   "source": [
    "## Check the DataTypes of Features"
   ]
  },
  {
   "cell_type": "code",
   "execution_count": 4,
   "id": "49a8ef84-21b7-4fe6-874b-83c79246fec9",
   "metadata": {},
   "outputs": [
    {
     "name": "stdout",
     "output_type": "stream",
     "text": [
      "<class 'pandas.core.frame.DataFrame'>\n",
      "RangeIndex: 63 entries, 0 to 62\n",
      "Data columns (total 5 columns):\n",
      " #   Column  Non-Null Count  Dtype  \n",
      "---  ------  --------------  -----  \n",
      " 0   SGPA_1  63 non-null     float64\n",
      " 1   SGPA_2  63 non-null     float64\n",
      " 2   SGPA_3  63 non-null     float64\n",
      " 3   SGPA_4  63 non-null     float64\n",
      " 4   SGPA5   63 non-null     float64\n",
      "dtypes: float64(5)\n",
      "memory usage: 2.6 KB\n"
     ]
    }
   ],
   "source": [
    "df.info()"
   ]
  },
  {
   "cell_type": "markdown",
   "id": "fd8d308b-38a6-453f-8a7c-bb705086289c",
   "metadata": {},
   "source": [
    "## Outlier Detection"
   ]
  },
  {
   "cell_type": "markdown",
   "id": "15ff9a82-bddb-4734-8079-4625179485b3",
   "metadata": {},
   "source": [
    "### For 'SGPA_1'"
   ]
  },
  {
   "cell_type": "code",
   "execution_count": 5,
   "id": "7efe9c0a-f6c7-43d0-82e1-ebf961c959c6",
   "metadata": {},
   "outputs": [
    {
     "name": "stdout",
     "output_type": "stream",
     "text": [
      "6.646750677729498\n",
      "10.22816995719114\n"
     ]
    },
    {
     "data": {
      "text/html": [
       "<div>\n",
       "<style scoped>\n",
       "    .dataframe tbody tr th:only-of-type {\n",
       "        vertical-align: middle;\n",
       "    }\n",
       "\n",
       "    .dataframe tbody tr th {\n",
       "        vertical-align: top;\n",
       "    }\n",
       "\n",
       "    .dataframe thead th {\n",
       "        text-align: right;\n",
       "    }\n",
       "</style>\n",
       "<table border=\"1\" class=\"dataframe\">\n",
       "  <thead>\n",
       "    <tr style=\"text-align: right;\">\n",
       "      <th></th>\n",
       "      <th>SGPA_1</th>\n",
       "      <th>SGPA_2</th>\n",
       "      <th>SGPA_3</th>\n",
       "      <th>SGPA_4</th>\n",
       "      <th>SGPA5</th>\n",
       "    </tr>\n",
       "  </thead>\n",
       "  <tbody>\n",
       "  </tbody>\n",
       "</table>\n",
       "</div>"
      ],
      "text/plain": [
       "Empty DataFrame\n",
       "Columns: [SGPA_1, SGPA_2, SGPA_3, SGPA_4, SGPA5]\n",
       "Index: []"
      ]
     },
     "execution_count": 5,
     "metadata": {},
     "output_type": "execute_result"
    }
   ],
   "source": [
    "lower1 = df['SGPA_1'].mean() - 3*df['SGPA_1'].std()\n",
    "print(lower1)\n",
    "upper1 = df['SGPA_1'].mean() + 3*df['SGPA_1'].std()\n",
    "print(upper1)\n",
    "df[(df['SGPA_1'] < lower1) | (df['SGPA_1'] > upper1)]"
   ]
  },
  {
   "cell_type": "markdown",
   "id": "6849a5d6-4dc8-46b4-af4d-26785a2f1380",
   "metadata": {},
   "source": [
    "### For 'SGPA_2'"
   ]
  },
  {
   "cell_type": "code",
   "execution_count": 6,
   "id": "00f3a45c-05e2-4d6b-9c2d-01e421ae6892",
   "metadata": {},
   "outputs": [
    {
     "name": "stdout",
     "output_type": "stream",
     "text": [
      "5.206766250290078\n",
      "10.49196390844008\n"
     ]
    },
    {
     "data": {
      "text/html": [
       "<div>\n",
       "<style scoped>\n",
       "    .dataframe tbody tr th:only-of-type {\n",
       "        vertical-align: middle;\n",
       "    }\n",
       "\n",
       "    .dataframe tbody tr th {\n",
       "        vertical-align: top;\n",
       "    }\n",
       "\n",
       "    .dataframe thead th {\n",
       "        text-align: right;\n",
       "    }\n",
       "</style>\n",
       "<table border=\"1\" class=\"dataframe\">\n",
       "  <thead>\n",
       "    <tr style=\"text-align: right;\">\n",
       "      <th></th>\n",
       "      <th>SGPA_1</th>\n",
       "      <th>SGPA_2</th>\n",
       "      <th>SGPA_3</th>\n",
       "      <th>SGPA_4</th>\n",
       "      <th>SGPA5</th>\n",
       "    </tr>\n",
       "  </thead>\n",
       "  <tbody>\n",
       "  </tbody>\n",
       "</table>\n",
       "</div>"
      ],
      "text/plain": [
       "Empty DataFrame\n",
       "Columns: [SGPA_1, SGPA_2, SGPA_3, SGPA_4, SGPA5]\n",
       "Index: []"
      ]
     },
     "execution_count": 6,
     "metadata": {},
     "output_type": "execute_result"
    }
   ],
   "source": [
    "lower2 = df['SGPA_2'].mean() - 3*df['SGPA_2'].std()\n",
    "print(lower2)\n",
    "upper2 = df['SGPA_2'].mean() + 3*df['SGPA_2'].std()\n",
    "print(upper2)\n",
    "df[(df['SGPA_2'] < lower2) | (df['SGPA_2'] > upper2)]"
   ]
  },
  {
   "cell_type": "markdown",
   "id": "cd6bff74-0f36-4adf-ad36-f69e30e862ef",
   "metadata": {},
   "source": [
    "### For 'SGPA_3'"
   ]
  },
  {
   "cell_type": "code",
   "execution_count": 7,
   "id": "659f080c-3ba1-4065-a88f-28ecf6630f14",
   "metadata": {},
   "outputs": [
    {
     "name": "stdout",
     "output_type": "stream",
     "text": [
      "5.471269828910774\n",
      "10.337619059978113\n"
     ]
    },
    {
     "data": {
      "text/html": [
       "<div>\n",
       "<style scoped>\n",
       "    .dataframe tbody tr th:only-of-type {\n",
       "        vertical-align: middle;\n",
       "    }\n",
       "\n",
       "    .dataframe tbody tr th {\n",
       "        vertical-align: top;\n",
       "    }\n",
       "\n",
       "    .dataframe thead th {\n",
       "        text-align: right;\n",
       "    }\n",
       "</style>\n",
       "<table border=\"1\" class=\"dataframe\">\n",
       "  <thead>\n",
       "    <tr style=\"text-align: right;\">\n",
       "      <th></th>\n",
       "      <th>SGPA_1</th>\n",
       "      <th>SGPA_2</th>\n",
       "      <th>SGPA_3</th>\n",
       "      <th>SGPA_4</th>\n",
       "      <th>SGPA5</th>\n",
       "    </tr>\n",
       "  </thead>\n",
       "  <tbody>\n",
       "  </tbody>\n",
       "</table>\n",
       "</div>"
      ],
      "text/plain": [
       "Empty DataFrame\n",
       "Columns: [SGPA_1, SGPA_2, SGPA_3, SGPA_4, SGPA5]\n",
       "Index: []"
      ]
     },
     "execution_count": 7,
     "metadata": {},
     "output_type": "execute_result"
    }
   ],
   "source": [
    "lower3 = df['SGPA_3'].mean() - 3*df['SGPA_3'].std()\n",
    "print(lower3)\n",
    "upper3 = df['SGPA_3'].mean() + 3*df['SGPA_3'].std()\n",
    "print(upper3)\n",
    "df[(df['SGPA_3'] < lower3) | (df['SGPA_3'] > upper3)]"
   ]
  },
  {
   "cell_type": "markdown",
   "id": "1638877f-f52e-4bff-a76a-e49576089fb8",
   "metadata": {},
   "source": [
    "### For 'SGPA_4'"
   ]
  },
  {
   "cell_type": "code",
   "execution_count": 8,
   "id": "0bc76b13-bfdc-4058-a223-efa0dd6d6349",
   "metadata": {},
   "outputs": [
    {
     "name": "stdout",
     "output_type": "stream",
     "text": [
      "6.338523244501807\n",
      "10.417667231688672\n"
     ]
    },
    {
     "data": {
      "text/html": [
       "<div>\n",
       "<style scoped>\n",
       "    .dataframe tbody tr th:only-of-type {\n",
       "        vertical-align: middle;\n",
       "    }\n",
       "\n",
       "    .dataframe tbody tr th {\n",
       "        vertical-align: top;\n",
       "    }\n",
       "\n",
       "    .dataframe thead th {\n",
       "        text-align: right;\n",
       "    }\n",
       "</style>\n",
       "<table border=\"1\" class=\"dataframe\">\n",
       "  <thead>\n",
       "    <tr style=\"text-align: right;\">\n",
       "      <th></th>\n",
       "      <th>SGPA_1</th>\n",
       "      <th>SGPA_2</th>\n",
       "      <th>SGPA_3</th>\n",
       "      <th>SGPA_4</th>\n",
       "      <th>SGPA5</th>\n",
       "    </tr>\n",
       "  </thead>\n",
       "  <tbody>\n",
       "  </tbody>\n",
       "</table>\n",
       "</div>"
      ],
      "text/plain": [
       "Empty DataFrame\n",
       "Columns: [SGPA_1, SGPA_2, SGPA_3, SGPA_4, SGPA5]\n",
       "Index: []"
      ]
     },
     "execution_count": 8,
     "metadata": {},
     "output_type": "execute_result"
    }
   ],
   "source": [
    "lower4 = df['SGPA_4'].mean() - 3*df['SGPA_4'].std()\n",
    "print(lower4)\n",
    "upper4 = df['SGPA_4'].mean() + 3*df['SGPA_4'].std()\n",
    "print(upper4)\n",
    "df[(df['SGPA_4'] < lower4) | (df['SGPA_4'] > upper4)]"
   ]
  },
  {
   "cell_type": "markdown",
   "id": "898ae0ce-a69b-4f6b-ab58-18807e6bb22b",
   "metadata": {},
   "source": [
    "### For 'SGPA_5'"
   ]
  },
  {
   "cell_type": "code",
   "execution_count": 9,
   "id": "791451b3-f6a0-4436-9e43-165fc63decfb",
   "metadata": {},
   "outputs": [
    {
     "name": "stdout",
     "output_type": "stream",
     "text": [
      "6.210509613751291\n",
      "10.39517821693654\n"
     ]
    },
    {
     "data": {
      "text/html": [
       "<div>\n",
       "<style scoped>\n",
       "    .dataframe tbody tr th:only-of-type {\n",
       "        vertical-align: middle;\n",
       "    }\n",
       "\n",
       "    .dataframe tbody tr th {\n",
       "        vertical-align: top;\n",
       "    }\n",
       "\n",
       "    .dataframe thead th {\n",
       "        text-align: right;\n",
       "    }\n",
       "</style>\n",
       "<table border=\"1\" class=\"dataframe\">\n",
       "  <thead>\n",
       "    <tr style=\"text-align: right;\">\n",
       "      <th></th>\n",
       "      <th>SGPA_1</th>\n",
       "      <th>SGPA_2</th>\n",
       "      <th>SGPA_3</th>\n",
       "      <th>SGPA_4</th>\n",
       "      <th>SGPA5</th>\n",
       "    </tr>\n",
       "  </thead>\n",
       "  <tbody>\n",
       "  </tbody>\n",
       "</table>\n",
       "</div>"
      ],
      "text/plain": [
       "Empty DataFrame\n",
       "Columns: [SGPA_1, SGPA_2, SGPA_3, SGPA_4, SGPA5]\n",
       "Index: []"
      ]
     },
     "execution_count": 9,
     "metadata": {},
     "output_type": "execute_result"
    }
   ],
   "source": [
    "lower5 = df['SGPA5'].mean() - 3*df['SGPA5'].std()\n",
    "print(lower5)\n",
    "upper5 = df['SGPA5'].mean() + 3*df['SGPA5'].std()\n",
    "print(upper5)\n",
    "df[(df['SGPA5'] < lower5) | (df['SGPA5'] > upper5)]"
   ]
  },
  {
   "cell_type": "code",
   "execution_count": 10,
   "id": "f6de4384-e93c-48c4-ba05-1225bcee0858",
   "metadata": {},
   "outputs": [],
   "source": [
    "df['SGPA5'] = df['SGPA5'].apply(lambda x : 6 if x < 6 else (10 if x > 10 else x))"
   ]
  },
  {
   "cell_type": "markdown",
   "id": "7281bf54-e6d2-4526-b777-c7e5905e74c0",
   "metadata": {},
   "source": [
    "## Final DataFrame"
   ]
  },
  {
   "cell_type": "code",
   "execution_count": 11,
   "id": "3f9a7dfa-a878-408b-9569-38dcfe16a18c",
   "metadata": {},
   "outputs": [
    {
     "data": {
      "text/html": [
       "<div>\n",
       "<style scoped>\n",
       "    .dataframe tbody tr th:only-of-type {\n",
       "        vertical-align: middle;\n",
       "    }\n",
       "\n",
       "    .dataframe tbody tr th {\n",
       "        vertical-align: top;\n",
       "    }\n",
       "\n",
       "    .dataframe thead th {\n",
       "        text-align: right;\n",
       "    }\n",
       "</style>\n",
       "<table border=\"1\" class=\"dataframe\">\n",
       "  <thead>\n",
       "    <tr style=\"text-align: right;\">\n",
       "      <th></th>\n",
       "      <th>SGPA_1</th>\n",
       "      <th>SGPA_2</th>\n",
       "      <th>SGPA_3</th>\n",
       "      <th>SGPA_4</th>\n",
       "      <th>SGPA5</th>\n",
       "    </tr>\n",
       "  </thead>\n",
       "  <tbody>\n",
       "    <tr>\n",
       "      <th>0</th>\n",
       "      <td>8.70</td>\n",
       "      <td>6.50</td>\n",
       "      <td>7.36</td>\n",
       "      <td>8.32</td>\n",
       "      <td>7.886667</td>\n",
       "    </tr>\n",
       "    <tr>\n",
       "      <th>1</th>\n",
       "      <td>8.80</td>\n",
       "      <td>7.93</td>\n",
       "      <td>8.27</td>\n",
       "      <td>8.82</td>\n",
       "      <td>8.765000</td>\n",
       "    </tr>\n",
       "    <tr>\n",
       "      <th>2</th>\n",
       "      <td>7.32</td>\n",
       "      <td>8.18</td>\n",
       "      <td>8.36</td>\n",
       "      <td>8.64</td>\n",
       "      <td>8.861667</td>\n",
       "    </tr>\n",
       "    <tr>\n",
       "      <th>3</th>\n",
       "      <td>9.09</td>\n",
       "      <td>9.68</td>\n",
       "      <td>9.55</td>\n",
       "      <td>9.91</td>\n",
       "      <td>9.929167</td>\n",
       "    </tr>\n",
       "    <tr>\n",
       "      <th>4</th>\n",
       "      <td>9.02</td>\n",
       "      <td>8.66</td>\n",
       "      <td>8.44</td>\n",
       "      <td>8.27</td>\n",
       "      <td>8.222500</td>\n",
       "    </tr>\n",
       "    <tr>\n",
       "      <th>...</th>\n",
       "      <td>...</td>\n",
       "      <td>...</td>\n",
       "      <td>...</td>\n",
       "      <td>...</td>\n",
       "      <td>...</td>\n",
       "    </tr>\n",
       "    <tr>\n",
       "      <th>58</th>\n",
       "      <td>8.90</td>\n",
       "      <td>7.00</td>\n",
       "      <td>7.80</td>\n",
       "      <td>6.90</td>\n",
       "      <td>7.150000</td>\n",
       "    </tr>\n",
       "    <tr>\n",
       "      <th>59</th>\n",
       "      <td>8.09</td>\n",
       "      <td>7.49</td>\n",
       "      <td>8.27</td>\n",
       "      <td>8.91</td>\n",
       "      <td>8.730000</td>\n",
       "    </tr>\n",
       "    <tr>\n",
       "      <th>60</th>\n",
       "      <td>7.14</td>\n",
       "      <td>6.93</td>\n",
       "      <td>8.09</td>\n",
       "      <td>7.45</td>\n",
       "      <td>7.387500</td>\n",
       "    </tr>\n",
       "    <tr>\n",
       "      <th>61</th>\n",
       "      <td>8.43</td>\n",
       "      <td>7.16</td>\n",
       "      <td>7.73</td>\n",
       "      <td>8.45</td>\n",
       "      <td>8.137500</td>\n",
       "    </tr>\n",
       "    <tr>\n",
       "      <th>62</th>\n",
       "      <td>8.57</td>\n",
       "      <td>7.93</td>\n",
       "      <td>7.45</td>\n",
       "      <td>8.73</td>\n",
       "      <td>8.686667</td>\n",
       "    </tr>\n",
       "  </tbody>\n",
       "</table>\n",
       "<p>63 rows × 5 columns</p>\n",
       "</div>"
      ],
      "text/plain": [
       "    SGPA_1  SGPA_2  SGPA_3  SGPA_4     SGPA5\n",
       "0     8.70    6.50    7.36    8.32  7.886667\n",
       "1     8.80    7.93    8.27    8.82  8.765000\n",
       "2     7.32    8.18    8.36    8.64  8.861667\n",
       "3     9.09    9.68    9.55    9.91  9.929167\n",
       "4     9.02    8.66    8.44    8.27  8.222500\n",
       "..     ...     ...     ...     ...       ...\n",
       "58    8.90    7.00    7.80    6.90  7.150000\n",
       "59    8.09    7.49    8.27    8.91  8.730000\n",
       "60    7.14    6.93    8.09    7.45  7.387500\n",
       "61    8.43    7.16    7.73    8.45  8.137500\n",
       "62    8.57    7.93    7.45    8.73  8.686667\n",
       "\n",
       "[63 rows x 5 columns]"
      ]
     },
     "execution_count": 11,
     "metadata": {},
     "output_type": "execute_result"
    }
   ],
   "source": [
    "df"
   ]
  },
  {
   "cell_type": "markdown",
   "id": "755d519d-ff52-48a7-9cdb-a5934cbf0b72",
   "metadata": {},
   "source": [
    "## Data Visulalizations"
   ]
  },
  {
   "cell_type": "markdown",
   "id": "7826d8fe-380d-4562-a459-27afc46e3ac4",
   "metadata": {},
   "source": [
    "### Plot the Histogram for each Feature"
   ]
  },
  {
   "cell_type": "code",
   "execution_count": 12,
   "id": "8bdd4048-bf1d-4b67-a01c-577ee56c147e",
   "metadata": {},
   "outputs": [
    {
     "data": {
      "image/png": "[encoded data removed]",
      "text/plain": [
       "<Figure size 2000x1000 with 6 Axes>"
      ]
     },
     "metadata": {},
     "output_type": "display_data"
    }
   ],
   "source": [
    "df.hist(figsize = (20,10), color = 'darkorange', edgecolor = 'black');"
   ]
  },
  {
   "cell_type": "markdown",
   "id": "4f8e816f-c6a4-47df-af34-a2d1101e2fb8",
   "metadata": {},
   "source": [
    "### Plot the Pairplot for checking the Corelation between Features"
   ]
  },
  {
   "cell_type": "code",
   "execution_count": 13,
   "id": "3535f6b7-9c1f-4895-8a64-f9da6b8e52fa",
   "metadata": {},
   "outputs": [
    {
     "data": {
      "text/plain": [
       "<seaborn.axisgrid.PairGrid at 0x21c8b206c90>"
      ]
     },
     "execution_count": 13,
     "metadata": {},
     "output_type": "execute_result"
    },
    {
     "data": {
      "image/png": "[encoded data removed]",
      "text/plain": [
       "<Figure size 1250x1250 with 30 Axes>"
      ]
     },
     "metadata": {},
     "output_type": "display_data"
    }
   ],
   "source": [
    "sns.pairplot(df)"
   ]
  },
  {
   "cell_type": "markdown",
   "id": "e3971396-44f5-40be-851c-e9bfa7102d8d",
   "metadata": {},
   "source": [
    "### Plot the Heatmap for checking Correlation between Features"
   ]
  },
  {
   "cell_type": "code",
   "execution_count": 14,
   "id": "ef29ff6d-0b9f-4c57-960a-a86c88547471",
   "metadata": {},
   "outputs": [
    {
     "data": {
      "text/html": [
       "<div>\n",
       "<style scoped>\n",
       "    .dataframe tbody tr th:only-of-type {\n",
       "        vertical-align: middle;\n",
       "    }\n",
       "\n",
       "    .dataframe tbody tr th {\n",
       "        vertical-align: top;\n",
       "    }\n",
       "\n",
       "    .dataframe thead th {\n",
       "        text-align: right;\n",
       "    }\n",
       "</style>\n",
       "<table border=\"1\" class=\"dataframe\">\n",
       "  <thead>\n",
       "    <tr style=\"text-align: right;\">\n",
       "      <th></th>\n",
       "      <th>SGPA_1</th>\n",
       "      <th>SGPA_2</th>\n",
       "      <th>SGPA_3</th>\n",
       "      <th>SGPA_4</th>\n",
       "      <th>SGPA5</th>\n",
       "    </tr>\n",
       "  </thead>\n",
       "  <tbody>\n",
       "    <tr>\n",
       "      <th>SGPA_1</th>\n",
       "      <td>1.000000</td>\n",
       "      <td>0.507901</td>\n",
       "      <td>0.378706</td>\n",
       "      <td>0.447167</td>\n",
       "      <td>0.335537</td>\n",
       "    </tr>\n",
       "    <tr>\n",
       "      <th>SGPA_2</th>\n",
       "      <td>0.507901</td>\n",
       "      <td>1.000000</td>\n",
       "      <td>0.647936</td>\n",
       "      <td>0.666855</td>\n",
       "      <td>0.681727</td>\n",
       "    </tr>\n",
       "    <tr>\n",
       "      <th>SGPA_3</th>\n",
       "      <td>0.378706</td>\n",
       "      <td>0.647936</td>\n",
       "      <td>1.000000</td>\n",
       "      <td>0.651660</td>\n",
       "      <td>0.712677</td>\n",
       "    </tr>\n",
       "    <tr>\n",
       "      <th>SGPA_4</th>\n",
       "      <td>0.447167</td>\n",
       "      <td>0.666855</td>\n",
       "      <td>0.651660</td>\n",
       "      <td>1.000000</td>\n",
       "      <td>0.947271</td>\n",
       "    </tr>\n",
       "    <tr>\n",
       "      <th>SGPA5</th>\n",
       "      <td>0.335537</td>\n",
       "      <td>0.681727</td>\n",
       "      <td>0.712677</td>\n",
       "      <td>0.947271</td>\n",
       "      <td>1.000000</td>\n",
       "    </tr>\n",
       "  </tbody>\n",
       "</table>\n",
       "</div>"
      ],
      "text/plain": [
       "          SGPA_1    SGPA_2    SGPA_3    SGPA_4     SGPA5\n",
       "SGPA_1  1.000000  0.507901  0.378706  0.447167  0.335537\n",
       "SGPA_2  0.507901  1.000000  0.647936  0.666855  0.681727\n",
       "SGPA_3  0.378706  0.647936  1.000000  0.651660  0.712677\n",
       "SGPA_4  0.447167  0.666855  0.651660  1.000000  0.947271\n",
       "SGPA5   0.335537  0.681727  0.712677  0.947271  1.000000"
      ]
     },
     "execution_count": 14,
     "metadata": {},
     "output_type": "execute_result"
    }
   ],
   "source": [
    "dfcorr = df.corr()\n",
    "dfcorr"
   ]
  },
  {
   "cell_type": "code",
   "execution_count": 15,
   "id": "27aac277-9f7b-44b9-baca-d479dd93b836",
   "metadata": {},
   "outputs": [
    {
     "data": {
      "text/plain": [
       "<Axes: >"
      ]
     },
     "execution_count": 15,
     "metadata": {},
     "output_type": "execute_result"
    },
    {
     "data": {
      "image/png": "[encoded data removed]",
      "text/plain": [
       "<Figure size 640x480 with 2 Axes>"
      ]
     },
     "metadata": {},
     "output_type": "display_data"
    }
   ],
   "source": [
    "sns.heatmap(dfcorr, annot = True)"
   ]
  },
  {
   "cell_type": "markdown",
   "id": "7be0b419-70f7-4355-a165-dbe477c677f6",
   "metadata": {},
   "source": [
    "## Data Splitting"
   ]
  },
  {
   "cell_type": "code",
   "execution_count": 16,
   "id": "0e93af3f-8384-41aa-aac6-083441e71ae2",
   "metadata": {},
   "outputs": [
    {
     "data": {
      "text/html": [
       "<div>\n",
       "<style scoped>\n",
       "    .dataframe tbody tr th:only-of-type {\n",
       "        vertical-align: middle;\n",
       "    }\n",
       "\n",
       "    .dataframe tbody tr th {\n",
       "        vertical-align: top;\n",
       "    }\n",
       "\n",
       "    .dataframe thead th {\n",
       "        text-align: right;\n",
       "    }\n",
       "</style>\n",
       "<table border=\"1\" class=\"dataframe\">\n",
       "  <thead>\n",
       "    <tr style=\"text-align: right;\">\n",
       "      <th></th>\n",
       "      <th>SGPA_1</th>\n",
       "      <th>SGPA_2</th>\n",
       "      <th>SGPA_3</th>\n",
       "      <th>SGPA_4</th>\n",
       "    </tr>\n",
       "  </thead>\n",
       "  <tbody>\n",
       "    <tr>\n",
       "      <th>0</th>\n",
       "      <td>8.70</td>\n",
       "      <td>6.50</td>\n",
       "      <td>7.36</td>\n",
       "      <td>8.32</td>\n",
       "    </tr>\n",
       "    <tr>\n",
       "      <th>1</th>\n",
       "      <td>8.80</td>\n",
       "      <td>7.93</td>\n",
       "      <td>8.27</td>\n",
       "      <td>8.82</td>\n",
       "    </tr>\n",
       "    <tr>\n",
       "      <th>2</th>\n",
       "      <td>7.32</td>\n",
       "      <td>8.18</td>\n",
       "      <td>8.36</td>\n",
       "      <td>8.64</td>\n",
       "    </tr>\n",
       "    <tr>\n",
       "      <th>3</th>\n",
       "      <td>9.09</td>\n",
       "      <td>9.68</td>\n",
       "      <td>9.55</td>\n",
       "      <td>9.91</td>\n",
       "    </tr>\n",
       "    <tr>\n",
       "      <th>4</th>\n",
       "      <td>9.02</td>\n",
       "      <td>8.66</td>\n",
       "      <td>8.44</td>\n",
       "      <td>8.27</td>\n",
       "    </tr>\n",
       "    <tr>\n",
       "      <th>...</th>\n",
       "      <td>...</td>\n",
       "      <td>...</td>\n",
       "      <td>...</td>\n",
       "      <td>...</td>\n",
       "    </tr>\n",
       "    <tr>\n",
       "      <th>58</th>\n",
       "      <td>8.90</td>\n",
       "      <td>7.00</td>\n",
       "      <td>7.80</td>\n",
       "      <td>6.90</td>\n",
       "    </tr>\n",
       "    <tr>\n",
       "      <th>59</th>\n",
       "      <td>8.09</td>\n",
       "      <td>7.49</td>\n",
       "      <td>8.27</td>\n",
       "      <td>8.91</td>\n",
       "    </tr>\n",
       "    <tr>\n",
       "      <th>60</th>\n",
       "      <td>7.14</td>\n",
       "      <td>6.93</td>\n",
       "      <td>8.09</td>\n",
       "      <td>7.45</td>\n",
       "    </tr>\n",
       "    <tr>\n",
       "      <th>61</th>\n",
       "      <td>8.43</td>\n",
       "      <td>7.16</td>\n",
       "      <td>7.73</td>\n",
       "      <td>8.45</td>\n",
       "    </tr>\n",
       "    <tr>\n",
       "      <th>62</th>\n",
       "      <td>8.57</td>\n",
       "      <td>7.93</td>\n",
       "      <td>7.45</td>\n",
       "      <td>8.73</td>\n",
       "    </tr>\n",
       "  </tbody>\n",
       "</table>\n",
       "<p>63 rows × 4 columns</p>\n",
       "</div>"
      ],
      "text/plain": [
       "    SGPA_1  SGPA_2  SGPA_3  SGPA_4\n",
       "0     8.70    6.50    7.36    8.32\n",
       "1     8.80    7.93    8.27    8.82\n",
       "2     7.32    8.18    8.36    8.64\n",
       "3     9.09    9.68    9.55    9.91\n",
       "4     9.02    8.66    8.44    8.27\n",
       "..     ...     ...     ...     ...\n",
       "58    8.90    7.00    7.80    6.90\n",
       "59    8.09    7.49    8.27    8.91\n",
       "60    7.14    6.93    8.09    7.45\n",
       "61    8.43    7.16    7.73    8.45\n",
       "62    8.57    7.93    7.45    8.73\n",
       "\n",
       "[63 rows x 4 columns]"
      ]
     },
     "execution_count": 16,
     "metadata": {},
     "output_type": "execute_result"
    }
   ],
   "source": [
    "X = df[['SGPA_1', 'SGPA_2', 'SGPA_3', 'SGPA_4']]\n",
    "X"
   ]
  },
  {
   "cell_type": "code",
   "execution_count": 17,
   "id": "1c292264-0e92-41f3-8e11-ab96dc18749d",
   "metadata": {},
   "outputs": [
    {
     "data": {
      "text/plain": [
       "0     7.886667\n",
       "1     8.765000\n",
       "2     8.861667\n",
       "3     9.929167\n",
       "4     8.222500\n",
       "        ...   \n",
       "58    7.150000\n",
       "59    8.730000\n",
       "60    7.387500\n",
       "61    8.137500\n",
       "62    8.686667\n",
       "Name: SGPA5, Length: 63, dtype: float64"
      ]
     },
     "execution_count": 17,
     "metadata": {},
     "output_type": "execute_result"
    }
   ],
   "source": [
    "y = df['SGPA5']\n",
    "y"
   ]
  },
  {
   "cell_type": "code",
   "execution_count": 18,
   "id": "06631ba1-ed87-4203-96e3-21a87241cee6",
   "metadata": {},
   "outputs": [],
   "source": [
    "from sklearn.model_selection import train_test_split\n",
    "X_train, X_test, y_train, y_test = train_test_split(X, y, test_size=0.2, random_state = 2)"
   ]
  },
  {
   "cell_type": "code",
   "execution_count": 19,
   "id": "0489a766-f462-4f49-bd8b-2f6c3bab0d25",
   "metadata": {},
   "outputs": [
    {
     "data": {
      "text/plain": [
       "((50, 4), (13, 4), (50,), (13,))"
      ]
     },
     "execution_count": 19,
     "metadata": {},
     "output_type": "execute_result"
    }
   ],
   "source": [
    "X_train.shape, X_test.shape, y_train.shape, y_test.shape"
   ]
  },
  {
   "cell_type": "markdown",
   "id": "922e8827-99f7-4ff3-b5ef-9657314d5fb3",
   "metadata": {},
   "source": [
    "## Import LinearRegression Algorithm "
   ]
  },
  {
   "cell_type": "code",
   "execution_count": 20,
   "id": "af02ebea-964f-4bed-a1d6-d2bf2f6504dc",
   "metadata": {},
   "outputs": [],
   "source": [
    "from sklearn.linear_model import LinearRegression\n",
    "lr_model = LinearRegression(fit_intercept=True, copy_X=True, n_jobs=None, positive=False,)"
   ]
  },
  {
   "cell_type": "markdown",
   "id": "983331e5-d08c-4c40-ab90-9cb71bbd3df6",
   "metadata": {},
   "source": [
    "### Train the Model"
   ]
  },
  {
   "cell_type": "code",
   "execution_count": 21,
   "id": "4e89d6d8-fd9a-4f03-8e92-c80e56b945b3",
   "metadata": {},
   "outputs": [
    {
     "data": {
      "text/html": [
       "<style>#sk-container-id-1 {color: black;}#sk-container-id-1 pre{padding: 0;}#sk-container-id-1 div.sk-toggleable {background-color: white;}#sk-container-id-1 label.sk-toggleable__label {cursor: pointer;display: block;width: 100%;margin-bottom: 0;padding: 0.3em;box-sizing: border-box;text-align: center;}#sk-container-id-1 label.sk-toggleable__label-arrow:before {content: \"▸\";float: left;margin-right: 0.25em;color: #696969;}#sk-container-id-1 label.sk-toggleable__label-arrow:hover:before {color: black;}#sk-container-id-1 div.sk-estimator:hover label.sk-toggleable__label-arrow:before {color: black;}#sk-container-id-1 div.sk-toggleable__content {max-height: 0;max-width: 0;overflow: hidden;text-align: left;background-color: #f0f8ff;}#sk-container-id-1 div.sk-toggleable__content pre {margin: 0.2em;color: black;border-radius: 0.25em;background-color: #f0f8ff;}#sk-container-id-1 input.sk-toggleable__control:checked~div.sk-toggleable__content {max-height: 200px;max-width: 100%;overflow: auto;}#sk-container-id-1 input.sk-toggleable__control:checked~label.sk-toggleable__label-arrow:before {content: \"▾\";}#sk-container-id-1 div.sk-estimator input.sk-toggleable__control:checked~label.sk-toggleable__label {background-color: #d4ebff;}#sk-container-id-1 div.sk-label input.sk-toggleable__control:checked~label.sk-toggleable__label {background-color: #d4ebff;}#sk-container-id-1 input.sk-hidden--visually {border: 0;clip: rect(1px 1px 1px 1px);clip: rect(1px, 1px, 1px, 1px);height: 1px;margin: -1px;overflow: hidden;padding: 0;position: absolute;width: 1px;}#sk-container-id-1 div.sk-estimator {font-family: monospace;background-color: #f0f8ff;border: 1px dotted black;border-radius: 0.25em;box-sizing: border-box;margin-bottom: 0.5em;}#sk-container-id-1 div.sk-estimator:hover {background-color: #d4ebff;}#sk-container-id-1 div.sk-parallel-item::after {content: \"\";width: 100%;border-bottom: 1px solid gray;flex-grow: 1;}#sk-container-id-1 div.sk-label:hover label.sk-toggleable__label {background-color: #d4ebff;}#sk-container-id-1 div.sk-serial::before {content: \"\";position: absolute;border-left: 1px solid gray;box-sizing: border-box;top: 0;bottom: 0;left: 50%;z-index: 0;}#sk-container-id-1 div.sk-serial {display: flex;flex-direction: column;align-items: center;background-color: white;padding-right: 0.2em;padding-left: 0.2em;position: relative;}#sk-container-id-1 div.sk-item {position: relative;z-index: 1;}#sk-container-id-1 div.sk-parallel {display: flex;align-items: stretch;justify-content: center;background-color: white;position: relative;}#sk-container-id-1 div.sk-item::before, #sk-container-id-1 div.sk-parallel-item::before {content: \"\";position: absolute;border-left: 1px solid gray;box-sizing: border-box;top: 0;bottom: 0;left: 50%;z-index: -1;}#sk-container-id-1 div.sk-parallel-item {display: flex;flex-direction: column;z-index: 1;position: relative;background-color: white;}#sk-container-id-1 div.sk-parallel-item:first-child::after {align-self: flex-end;width: 50%;}#sk-container-id-1 div.sk-parallel-item:last-child::after {align-self: flex-start;width: 50%;}#sk-container-id-1 div.sk-parallel-item:only-child::after {width: 0;}#sk-container-id-1 div.sk-dashed-wrapped {border: 1px dashed gray;margin: 0 0.4em 0.5em 0.4em;box-sizing: border-box;padding-bottom: 0.4em;background-color: white;}#sk-container-id-1 div.sk-label label {font-family: monospace;font-weight: bold;display: inline-block;line-height: 1.2em;}#sk-container-id-1 div.sk-label-container {text-align: center;}#sk-container-id-1 div.sk-container {/* jupyter's `normalize.less` sets `[hidden] { display: none; }` but bootstrap.min.css set `[hidden] { display: none !important; }` so we also need the `!important` here to be able to override the default hidden behavior on the sphinx rendered scikit-learn.org. See: https://github.com/scikit-learn/scikit-learn/issues/21755 */display: inline-block !important;position: relative;}#sk-container-id-1 div.sk-text-repr-fallback {display: none;}</style><div id=\"sk-container-id-1\" class=\"sk-top-container\"><div class=\"sk-text-repr-fallback\"><pre>LinearRegression()</pre><b>In a Jupyter environment, please rerun this cell to show the HTML representation or trust the notebook. <br />On GitHub, the HTML representation is unable to render, please try loading this page with nbviewer.org.</b></div><div class=\"sk-container\" hidden><div class=\"sk-item\"><div class=\"sk-estimator sk-toggleable\"><input class=\"sk-toggleable__control sk-hidden--visually\" id=\"sk-estimator-id-1\" type=\"checkbox\" checked><label for=\"sk-estimator-id-1\" class=\"sk-toggleable__label sk-toggleable__label-arrow\">LinearRegression</label><div class=\"sk-toggleable__content\"><pre>LinearRegression()</pre></div></div></div></div></div>"
      ],
      "text/plain": [
       "LinearRegression()"
      ]
     },
     "execution_count": 21,
     "metadata": {},
     "output_type": "execute_result"
    }
   ],
   "source": [
    "lr_model.fit(X_train, y_train)"
   ]
  },
  {
   "cell_type": "markdown",
   "id": "5b1232cc-4c67-4acb-8728-c3fe817764d9",
   "metadata": {},
   "source": [
    "## Check the Accuracy for X and y"
   ]
  },
  {
   "cell_type": "code",
   "execution_count": 22,
   "id": "c4efd232-6a69-430e-ae08-d038cc8583f6",
   "metadata": {},
   "outputs": [
    {
     "data": {
      "text/plain": [
       "0.9286422130003925"
      ]
     },
     "execution_count": 22,
     "metadata": {},
     "output_type": "execute_result"
    }
   ],
   "source": [
    "lr_model.score(X, y)"
   ]
  },
  {
   "cell_type": "markdown",
   "id": "afaa5cf6-e9d3-4067-a3b1-46971a3980ea",
   "metadata": {},
   "source": [
    "### Check the Accuracy for Test Dataset"
   ]
  },
  {
   "cell_type": "code",
   "execution_count": 23,
   "id": "4486d10e-1500-4e8c-807b-2e0cd24c47c0",
   "metadata": {},
   "outputs": [
    {
     "data": {
      "text/plain": [
       "0.9251801109011246"
      ]
     },
     "execution_count": 23,
     "metadata": {},
     "output_type": "execute_result"
    }
   ],
   "source": [
    "lr_model.score(X_test, y_test)"
   ]
  },
  {
   "cell_type": "markdown",
   "id": "f1611c21-86f4-43e7-928a-3fb495eef647",
   "metadata": {},
   "source": [
    "### Check the Accuracy for Train Dataset"
   ]
  },
  {
   "cell_type": "code",
   "execution_count": 24,
   "id": "a5bf7da3-ca0c-4022-a143-70bc30f6992f",
   "metadata": {},
   "outputs": [
    {
     "data": {
      "text/plain": [
       "0.92937396770846"
      ]
     },
     "execution_count": 24,
     "metadata": {},
     "output_type": "execute_result"
    }
   ],
   "source": [
    "lr_model.score(X_train, y_train)"
   ]
  },
  {
   "cell_type": "markdown",
   "id": "4c7750f5-788b-4af3-935e-f6d55e74a708",
   "metadata": {},
   "source": [
    "### Check the Model against Unseen Data"
   ]
  },
  {
   "cell_type": "code",
   "execution_count": 25,
   "id": "12bdba93-8be5-49f1-93cd-c94a4939cc41",
   "metadata": {},
   "outputs": [
    {
     "data": {
      "text/plain": [
       "8.551543929391602"
      ]
     },
     "execution_count": 25,
     "metadata": {},
     "output_type": "execute_result"
    }
   ],
   "source": [
    "lr_model.predict([[8.57, 7.93, 7.45, 8.73]])[0]"
   ]
  },
  {
   "cell_type": "code",
   "execution_count": 26,
   "id": "16a91828-efa2-4a39-af59-d093ff1ccdc6",
   "metadata": {},
   "outputs": [
    {
     "data": {
      "text/plain": [
       "array([-0.19067267,  0.06013819,  0.12353843,  0.92529562])"
      ]
     },
     "execution_count": 26,
     "metadata": {},
     "output_type": "execute_result"
    }
   ],
   "source": [
    "m = lr_model.coef_\n",
    "m"
   ]
  },
  {
   "cell_type": "code",
   "execution_count": 27,
   "id": "8eedcd1c-f687-4e01-9db0-8ee860e36e80",
   "metadata": {},
   "outputs": [
    {
     "data": {
      "text/plain": [
       "0.7105207933367534"
      ]
     },
     "execution_count": 27,
     "metadata": {},
     "output_type": "execute_result"
    }
   ],
   "source": [
    "c = lr_model.intercept_\n",
    "c"
   ]
  },
  {
   "cell_type": "code",
   "execution_count": 28,
   "id": "312c081e-8c77-48f5-9211-a8e720fbca6c",
   "metadata": {},
   "outputs": [
    {
     "data": {
      "text/plain": [
       "8.551543924236753"
      ]
     },
     "execution_count": 28,
     "metadata": {},
     "output_type": "execute_result"
    }
   ],
   "source": [
    "# y = m*x + c                                   ---> for simple linear regression\n",
    "# y = m1*x1 + m2*x2 + ... + mn*xn + c           ---> for multiple linear regression\n",
    "\n",
    "y = (-0.19067267*8.57)+(0.06013819*7.93)+(0.12353843*7.45)+(0.92529562*8.73) + c\n",
    "y"
   ]
  },
  {
   "cell_type": "markdown",
   "id": "5474168c-796e-4686-a5d2-7599e47f4f20",
   "metadata": {},
   "source": [
    "## Make the Model using Joblib"
   ]
  },
  {
   "cell_type": "markdown",
   "id": "92e963ac-93d8-47db-bd13-f450d31ed97b",
   "metadata": {},
   "source": [
    "### Dump the Model into Pickle File"
   ]
  },
  {
   "cell_type": "code",
   "execution_count": 29,
   "id": "d8a68397-64a2-45b6-a549-235edb42d238",
   "metadata": {},
   "outputs": [
    {
     "data": {
      "text/plain": [
       "['fifth_sgpa_predictor.pkl']"
      ]
     },
     "execution_count": 29,
     "metadata": {},
     "output_type": "execute_result"
    }
   ],
   "source": [
    "import joblib\n",
    "joblib.dump(lr_model, \"fifth_sgpa_predictor.pkl\")"
   ]
  },
  {
   "cell_type": "markdown",
   "id": "26d053fe-fd41-4766-94d6-16599e7c0d34",
   "metadata": {},
   "source": [
    "### Load the Pickle File and create Model"
   ]
  },
  {
   "cell_type": "code",
   "execution_count": 30,
   "id": "762bc333-c2fe-46a6-99be-e612d220b88d",
   "metadata": {},
   "outputs": [
    {
     "data": {
      "text/html": [
       "<style>#sk-container-id-2 {color: black;}#sk-container-id-2 pre{padding: 0;}#sk-container-id-2 div.sk-toggleable {background-color: white;}#sk-container-id-2 label.sk-toggleable__label {cursor: pointer;display: block;width: 100%;margin-bottom: 0;padding: 0.3em;box-sizing: border-box;text-align: center;}#sk-container-id-2 label.sk-toggleable__label-arrow:before {content: \"▸\";float: left;margin-right: 0.25em;color: #696969;}#sk-container-id-2 label.sk-toggleable__label-arrow:hover:before {color: black;}#sk-container-id-2 div.sk-estimator:hover label.sk-toggleable__label-arrow:before {color: black;}#sk-container-id-2 div.sk-toggleable__content {max-height: 0;max-width: 0;overflow: hidden;text-align: left;background-color: #f0f8ff;}#sk-container-id-2 div.sk-toggleable__content pre {margin: 0.2em;color: black;border-radius: 0.25em;background-color: #f0f8ff;}#sk-container-id-2 input.sk-toggleable__control:checked~div.sk-toggleable__content {max-height: 200px;max-width: 100%;overflow: auto;}#sk-container-id-2 input.sk-toggleable__control:checked~label.sk-toggleable__label-arrow:before {content: \"▾\";}#sk-container-id-2 div.sk-estimator input.sk-toggleable__control:checked~label.sk-toggleable__label {background-color: #d4ebff;}#sk-container-id-2 div.sk-label input.sk-toggleable__control:checked~label.sk-toggleable__label {background-color: #d4ebff;}#sk-container-id-2 input.sk-hidden--visually {border: 0;clip: rect(1px 1px 1px 1px);clip: rect(1px, 1px, 1px, 1px);height: 1px;margin: -1px;overflow: hidden;padding: 0;position: absolute;width: 1px;}#sk-container-id-2 div.sk-estimator {font-family: monospace;background-color: #f0f8ff;border: 1px dotted black;border-radius: 0.25em;box-sizing: border-box;margin-bottom: 0.5em;}#sk-container-id-2 div.sk-estimator:hover {background-color: #d4ebff;}#sk-container-id-2 div.sk-parallel-item::after {content: \"\";width: 100%;border-bottom: 1px solid gray;flex-grow: 1;}#sk-container-id-2 div.sk-label:hover label.sk-toggleable__label {background-color: #d4ebff;}#sk-container-id-2 div.sk-serial::before {content: \"\";position: absolute;border-left: 1px solid gray;box-sizing: border-box;top: 0;bottom: 0;left: 50%;z-index: 0;}#sk-container-id-2 div.sk-serial {display: flex;flex-direction: column;align-items: center;background-color: white;padding-right: 0.2em;padding-left: 0.2em;position: relative;}#sk-container-id-2 div.sk-item {position: relative;z-index: 1;}#sk-container-id-2 div.sk-parallel {display: flex;align-items: stretch;justify-content: center;background-color: white;position: relative;}#sk-container-id-2 div.sk-item::before, #sk-container-id-2 div.sk-parallel-item::before {content: \"\";position: absolute;border-left: 1px solid gray;box-sizing: border-box;top: 0;bottom: 0;left: 50%;z-index: -1;}#sk-container-id-2 div.sk-parallel-item {display: flex;flex-direction: column;z-index: 1;position: relative;background-color: white;}#sk-container-id-2 div.sk-parallel-item:first-child::after {align-self: flex-end;width: 50%;}#sk-container-id-2 div.sk-parallel-item:last-child::after {align-self: flex-start;width: 50%;}#sk-container-id-2 div.sk-parallel-item:only-child::after {width: 0;}#sk-container-id-2 div.sk-dashed-wrapped {border: 1px dashed gray;margin: 0 0.4em 0.5em 0.4em;box-sizing: border-box;padding-bottom: 0.4em;background-color: white;}#sk-container-id-2 div.sk-label label {font-family: monospace;font-weight: bold;display: inline-block;line-height: 1.2em;}#sk-container-id-2 div.sk-label-container {text-align: center;}#sk-container-id-2 div.sk-container {/* jupyter's `normalize.less` sets `[hidden] { display: none; }` but bootstrap.min.css set `[hidden] { display: none !important; }` so we also need the `!important` here to be able to override the default hidden behavior on the sphinx rendered scikit-learn.org. See: https://github.com/scikit-learn/scikit-learn/issues/21755 */display: inline-block !important;position: relative;}#sk-container-id-2 div.sk-text-repr-fallback {display: none;}</style><div id=\"sk-container-id-2\" class=\"sk-top-container\"><div class=\"sk-text-repr-fallback\"><pre>LinearRegression()</pre><b>In a Jupyter environment, please rerun this cell to show the HTML representation or trust the notebook. <br />On GitHub, the HTML representation is unable to render, please try loading this page with nbviewer.org.</b></div><div class=\"sk-container\" hidden><div class=\"sk-item\"><div class=\"sk-estimator sk-toggleable\"><input class=\"sk-toggleable__control sk-hidden--visually\" id=\"sk-estimator-id-2\" type=\"checkbox\" checked><label for=\"sk-estimator-id-2\" class=\"sk-toggleable__label sk-toggleable__label-arrow\">LinearRegression</label><div class=\"sk-toggleable__content\"><pre>LinearRegression()</pre></div></div></div></div></div>"
      ],
      "text/plain": [
       "LinearRegression()"
      ]
     },
     "execution_count": 30,
     "metadata": {},
     "output_type": "execute_result"
    }
   ],
   "source": [
    "model = joblib.load(\"fifth_sgpa_predictor.pkl\")\n",
    "model"
   ]
  },
  {
   "cell_type": "code",
   "execution_count": 31,
   "id": "a0014888-1a05-45be-9e16-fbc9aa72e309",
   "metadata": {},
   "outputs": [
    {
     "data": {
      "text/plain": [
       "5.892115007361267"
      ]
     },
     "execution_count": 31,
     "metadata": {},
     "output_type": "execute_result"
    }
   ],
   "source": [
    "model.predict([[9,8,7,6]])[0]"
   ]
  }
 ],
 "metadata": {
  "kernelspec": {
   "display_name": "Python 3 (ipykernel)",
   "language": "python",
   "name": "python3"
  },
  "language_info": {
   "codemirror_mode": {
    "name": "ipython",
    "version": 3
   },
   "file_extension": ".py",
   "mimetype": "text/x-python",
   "name": "python",
   "nbconvert_exporter": "python",
   "pygments_lexer": "ipython3",
   "version": "3.11.5"
  }
 },
 "nbformat": 4,
 "nbformat_minor": 5
}
